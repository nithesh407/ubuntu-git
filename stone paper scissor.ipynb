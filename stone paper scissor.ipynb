
    import numpy as np
    valid_value = ("s","p","r")
    
    "def take_user_input():\n",
    "    yourname = input(\"enter your name:\")\n",
    "    user_input = input(yourname +\"you have to choose -'r' for rock,'p' for paper and 's' for scissor\")\n",
    "    if user_input not in valid_value:\n",
    "        print(yourname+\"choose a correct value\") \n",
    "    else:\n",
    "        print(yourname +\"you have choosen\",user_input)\n",
    "    return yourname,user_input\n",
    "\n",
    "def comp_input():\n",
    "    comp_input = np.random.randint(1,4)\n",
    "\n",
    "    if comp_input == 1:\n",
    "        computer = 'p'\n",
    "    elif comp_input == 2:\n",
    "        computer = 'r'\n",
    "    else:\n",
    "        computer = 's'\n",
    "    return computer \n"
   ]
  },
  {
   "cell_type": "code",
   "execution_count": 8,
   "metadata": {},
   "outputs": [],
   "source": [
    "def game():\n",
    "    yourname,user = take_user_input()\n",
    "    comp = comp_input()\n",
    "\n",
    "    if user == comp:\n",
    "        print(\"wow its a draw...!!\")\n",
    "    elif user == 'r' and comp == 'p':\n",
    "        print(\"opponent wins..!\")\n",
    "    elif user == 'p' and comp == 'r':\n",
    "        print(yourname,\"wins..!\")\n",
    "    elif user == 's' and comp == 'p':\n",
    "        print(yourname,\"wins..!\")   \n",
    "    elif user == 's' and comp == 'r':\n",
    "        print(\"opponent wins..!\")\n",
    "    elif user == 'r' and comp == 's':\n",
    "        print(yourname,\"wins..!\")\n",
    "    elif user == 'p' and comp == 's':\n",
    "        print(\"opponent wins..!\")"
   ]
  },
  {
   "cell_type": "code",
   "execution_count": null,
   "metadata": {},
   "outputs": [],
   "source": []
  },
  {
   "cell_type": "code",
   "execution_count": null,
   "metadata": {},
   "outputs": [],
   "source": []
  },
  {
   "cell_type": "code",
   "execution_count": null,
   "metadata": {},
   "outputs": [],
   "source": []
  }
 ],
 "metadata": {
  "kernelspec": {
   "display_name": "Python 3",
   "language": "python",
   "name": "python3"
  },
  "language_info": {
   "codemirror_mode": {
    "name": "ipython",
    "version": 3
   },
   "file_extension": ".py",
   "mimetype": "text/x-python",
   "name": "python",
   "nbconvert_exporter": "python",
   "pygments_lexer": "ipython3",
   "version": "3.8.2"
  }
 },
 "nbformat": 4,
 "nbformat_minor": 4
}
