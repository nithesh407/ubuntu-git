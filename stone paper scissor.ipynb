
    import numpy as np
    valid_value = ("s","p","r")
    
    def take_user_input():
    yourname = input("enter your name:")
    user_input = input(yourname +"you have to choose -'r' for rock,'p' for paper and 's' for scissor")
        if user_input not in valid_value:
            print(yourname+"choose a correct value") 
        else:
            print(yourname +"you have choosen",user_input)
        return yourname,user_input
   
    def comp_input():
       comp_input = np.random.randint(1,4)
    
        if comp_input == 1:
            computer = 'p'
        elif comp_input == 2:
            computer = 'r'
        else:
            computer = 's'
        return computer 
  
    def game():
        yourname,user = take_user_input()
        comp = comp_input()
    
        if user == comp:
            print("wow its a draw...!!")
        elif user == 'r' and comp == 'p':
            print("opponent wins..!")
        elif user == 'p' and comp == 'r':
            print(yourname,"wins..!")
        elif user == 's' and comp == 'p':
            print(yourname,"wins..!")   
        elif user == 's' and comp == 'r':
            print("opponent wins..!")
        elif user == 'r' and comp == 's':
            print(yourname,"wins..!")
        elif user == 'p' and comp == 's':
            print("opponent wins..!")
 
